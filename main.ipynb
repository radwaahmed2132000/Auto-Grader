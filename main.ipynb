{
 "cells": [
  {
   "cell_type": "code",
   "execution_count": 3,
   "metadata": {},
   "outputs": [],
   "source": [
    "import cv2 \n",
    "from PageExtractor import getPageWarped\n",
    "from BubbleSheet import generate_asnwsers, readanswers, createspreadsheet, BubbleSheet\n",
    "from skimage import data, exposure, img_as_float\n",
    "import xlwt\n",
    "from xlwt import Workbook"
   ]
  },
  {
   "cell_type": "code",
   "execution_count": 5,
   "metadata": {
    "scrolled": false
   },
   "outputs": [
    {
     "ename": "IndentationError",
     "evalue": "unexpected indent (<ipython-input-5-d360a37331ee>, line 9)",
     "output_type": "error",
     "traceback": [
      "\u001b[1;36m  File \u001b[1;32m\"<ipython-input-5-d360a37331ee>\"\u001b[1;36m, line \u001b[1;32m9\u001b[0m\n\u001b[1;33m    try:\u001b[0m\n\u001b[1;37m    ^\u001b[0m\n\u001b[1;31mIndentationError\u001b[0m\u001b[1;31m:\u001b[0m unexpected indent\n"
     ]
    }
   ],
   "source": [
    "files2 = ['2_3.jpeg','9_1.jpeg']\n",
    "#files2 = ['5_1.jpg']\n",
    "answers=readanswers()\n",
    "sheet1,wb=createspreadsheet()\n",
    "i=1\n",
    "for file in files2:\n",
    "    img = cv2.imread('TestCases/'+file)\n",
    "    imageArr, notWarped=getPageWarped(img)\n",
    "    try:\n",
    "        BubbleSheet(imageArr[5],notWarped,sheet1,i)\n",
    "        i+=1\n",
    "        wb.save('BubbleSheetTests/Grades.xls')\n",
    "    except IndexError:\n",
    "        print(\"Error\")"
   ]
  },
  {
   "cell_type": "code",
   "execution_count": null,
   "metadata": {},
   "outputs": [],
   "source": []
  }
 ],
 "metadata": {
  "interpreter": {
   "hash": "c5e48f84046969b800ff52f6d80523bcd1ca3fb1a99f1449e4197bf6c73dc096"
  },
  "kernelspec": {
   "display_name": "Python 3",
   "language": "python",
   "name": "python3"
  },
  "language_info": {
   "codemirror_mode": {
    "name": "ipython",
    "version": 3
   },
   "file_extension": ".py",
   "mimetype": "text/x-python",
   "name": "python",
   "nbconvert_exporter": "python",
   "pygments_lexer": "ipython3",
   "version": "3.8.8"
  }
 },
 "nbformat": 4,
 "nbformat_minor": 2
}
