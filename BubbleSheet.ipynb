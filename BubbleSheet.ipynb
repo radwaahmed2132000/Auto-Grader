{
 "cells": [
  {
   "cell_type": "code",
   "execution_count": 1,
   "id": "f0356000",
   "metadata": {},
   "outputs": [],
   "source": [
    "#imports\n",
    "import cv2\n",
    "import numpy as np\n",
    "import sys\n",
    "\n",
    "import matplotlib.pyplot as plt\n",
    "import matplotlib.image as mpimg\n",
    "import numpy as np\n",
    "from skimage.color import rgb2gray\n",
    "from skimage.filters import median,threshold_otsu\n",
    "from skimage.morphology import binary_closing,binary_opening \n",
    "from skimage.feature import canny\n",
    "from skimage.measure import find_contours\n",
    "from sklearn.cluster import KMeans\n",
    "import skimage.io as io\n",
    "import numpy as np\n",
    "import random\n",
    "from skimage import data, exposure, img_as_float\n",
    "import xlwt\n",
    "from xlwt import Workbook"
   ]
  },
  {
   "cell_type": "code",
   "execution_count": 2,
   "id": "4c280e55",
   "metadata": {},
   "outputs": [],
   "source": [
    "#detect shape of contours\n",
    "def detect(c):\n",
    "        # initialize the shape name and approximate the contour\n",
    "        shape = \"unidentified\"\n",
    "        peri = cv2.arcLength(c, True)\n",
    "        approx = cv2.approxPolyDP(c, 0.02 * peri, True)\n",
    "        (x, y, w, h) = cv2.boundingRect(approx)\n",
    "        ar = w / float(h)\n",
    "        # if the shape is a triangle, it will have 3 vertices\n",
    "        if len(approx) == 3:\n",
    "            shape = \"triangle\"\n",
    "        # if the shape has 4 vertices, it is either a square or\n",
    "        # a rectangle\n",
    "         \n",
    "        elif len(approx) == 4:\n",
    "            # compute the bounding box of the contour and use the\n",
    "            # bounding box to compute the aspect ratio\n",
    "          \n",
    "            # a square will have an aspect ratio that is approximately\n",
    "            # equal to one, otherwise, the shape is a rectangle\n",
    "            shape = \"square\" if ar >= 0.95 and ar <= 1.05 else \"rectangle\"\n",
    "        # if the shape is a pentagon, it will have 5 vertices\n",
    "        elif len(approx) == 5:\n",
    "            shape = \"circle\"\n",
    "        # otherwise, we assume the shape is a circle\n",
    "        else:\n",
    "            shape = \"circle\"\n",
    "        # return the name of the shape\n",
    "        return shape"
   ]
  },
  {
   "cell_type": "code",
   "execution_count": 3,
   "id": "a7ab1083",
   "metadata": {},
   "outputs": [],
   "source": [
    "#show image\n",
    "def show_images(images,titles=None):\n",
    "    #This function is used to show image(s) with titles by sending an array of images and an array of associated titles.\n",
    "    # images[0] will be drawn with the title titles[0] if exists\n",
    "    n_ims = len(images)\n",
    "    if titles is None: titles = ['(%d)' % i for i in range(1,n_ims + 1)]\n",
    "    fig = plt.figure()\n",
    "    n = 1\n",
    "    for image,title in zip(images,titles):\n",
    "        a = fig.add_subplot(1,n_ims,n)\n",
    "        if image.ndim == 2: \n",
    "            plt.gray()\n",
    "        plt.imshow(image)\n",
    "        a.set_title(title)\n",
    "        n += 1\n",
    "    fig.set_size_inches(np.array(fig.get_size_inches()) * n_ims)\n",
    "    plt.show()"
   ]
  },
  {
   "cell_type": "code",
   "execution_count": 4,
   "id": "8bf0e80f",
   "metadata": {},
   "outputs": [],
   "source": [
    "# #read image\n",
    "# path =\"BubbleSheetTests/9_1.jpeg\"\n",
    "# img = cv2.imread(path)\n",
    "# dim=(700,700)\n",
    "# image =img.copy()"
   ]
  },
  {
   "cell_type": "code",
   "execution_count": 5,
   "id": "d5b32b6a",
   "metadata": {},
   "outputs": [],
   "source": [
    "def GrayScaleImage(img):\n",
    "    #convert image to gray image\n",
    "    imgGray=cv2.cvtColor(img,cv2.COLOR_BGR2GRAY)\n",
    "    show_images([imgGray],[\"Gray Image\"])\n",
    "    return imgGray"
   ]
  },
  {
   "cell_type": "code",
   "execution_count": 6,
   "id": "a8784f51",
   "metadata": {},
   "outputs": [],
   "source": [
    "def BluringImage(imgGray):\n",
    "    # kernal size(3,3) & sigma = 1\n",
    "    # may think again in img bluring\n",
    "    imgBlur =cv2.GaussianBlur(imgGray,(3,3),1)\n",
    "    show_images([imgBlur],[\"Image Bluring\"])\n",
    "    return imgBlur"
   ]
  },
  {
   "cell_type": "code",
   "execution_count": 7,
   "id": "23f7a20a",
   "metadata": {},
   "outputs": [],
   "source": [
    "def GraytoBinary(imgBlur):\n",
    "    #BI-MODEL THRESHOLDING using two peaks \n",
    "    BinaryImage = cv2.adaptiveThreshold(imgBlur,255,cv2.ADAPTIVE_THRESH_GAUSSIAN_C,\\\n",
    "                cv2.THRESH_BINARY_INV,33,5)\n",
    "    show_images([BinaryImage],[\"Binary Image\"])\n",
    "    return BinaryImage"
   ]
  },
  {
   "cell_type": "code",
   "execution_count": 8,
   "id": "e2110df6",
   "metadata": {},
   "outputs": [],
   "source": [
    "def allContours(img ,BinaryImage):\n",
    "    #get contours in image\n",
    "    cnts ,hierarchy  = cv2.findContours(BinaryImage.copy(), cv2.RETR_EXTERNAL, cv2.CHAIN_APPROX_SIMPLE)\n",
    "    image= img.copy()\n",
    "    # loop over the contour\n",
    "    charsAndShapes =[]\n",
    "    hierarchyShape= [] \n",
    "    \n",
    "    for c in cnts:\n",
    " \n",
    "        shape = detect(c)\n",
    " \n",
    "        if shape!='rectangle' and shape !='square':\n",
    "        #if shape in not rect or square => so assume chars and circle\n",
    "            charsAndShapes.append(c)\n",
    "\n",
    "        else:\n",
    "             cv2.drawContours(image, [c], -1, (0, 255, 0), 1)\n",
    "\n",
    "         # show the output image\n",
    "\n",
    "    show_images([image],[\"Image\"])\n",
    "    return charsAndShapes"
   ]
  },
  {
   "cell_type": "code",
   "execution_count": 9,
   "id": "e5b18d95",
   "metadata": {},
   "outputs": [],
   "source": [
    "def charandCircles(img,BinaryImage,charsAndShapes):\n",
    "    new_image= img.copy()\n",
    "    circles=[]\n",
    "    maskimage= np.zeros(BinaryImage.shape, dtype='uint8')\n",
    "    #now i just have circles and chars\n",
    "    for c in charsAndShapes:\n",
    "        (x1, y1, w, h) = cv2.boundingRect(c)\n",
    "        ar = w / float(h)\n",
    "        # loop on contours if aspect ratio in accepted range so it circle\n",
    "        if ar >= 0.75 and ar <= 1.4 :\n",
    "            circles.append(c)\n",
    "            # draw image with circle conoturs\n",
    "            maskimage  [y1:y1+h, x1:x1+w] = BinaryImage[y1:y1+h, x1:x1+w]\n",
    "            cv2.drawContours(new_image, [c], -1, (0, 255, 0), 1)\n",
    "    show_images([new_image ,maskimage],[\"Image\" ,\"masked\"]) \n",
    "    print(len(circles))\n",
    "    return circles,maskimage"
   ]
  },
  {
   "cell_type": "code",
   "execution_count": 10,
   "id": "3e77e758",
   "metadata": {},
   "outputs": [],
   "source": [
    "def ClosingCircles(maskimage,img):\n",
    "    kernel = np.ones((2, 2), np.uint8)\n",
    "    newmask2= cv2.morphologyEx(maskimage, cv2.MORPH_CLOSE, kernel,iterations=5)\n",
    "    show_images([newmask2] ,[\"Image\" ])\n",
    "    cnts ,hierarchy  = cv2.findContours(newmask2.copy(), cv2.RETR_TREE, cv2.CHAIN_APPROX_SIMPLE)\n",
    "\n",
    "    test_image= img.copy()\n",
    "\n",
    "    print(len(cnts))\n",
    "    for c in cnts:\n",
    "        cv2.drawContours(test_image, [c], -1, (0, 255, 0), 2)\n",
    "    show_images([newmask2 , test_image],[\"Image\" ,\"Test Image\"])\n",
    "    return cnts"
   ]
  },
  {
   "cell_type": "code",
   "execution_count": 11,
   "id": "2f32a7d5",
   "metadata": {},
   "outputs": [],
   "source": [
    "def Circle(img,BinaryImage,circles):\n",
    "    test_image= img.copy()\n",
    "    mask = np.zeros(BinaryImage.shape, dtype='uint8')\n",
    "    \n",
    "    areas =[]\n",
    "    reminder =[]\n",
    "    questionCnts =[]\n",
    "    (xmin,ymin),r =cv2.minEnclosingCircle(circles[0])\n",
    "    for c in circles:\n",
    "        x,y,w,h = cv2.boundingRect(c)\n",
    "#         print(\"X\"+ str(x)+\" ,Y\"+str(y))\n",
    "        #store area of all contours\n",
    "        areas.append(w*h)\n",
    "    areas = np.float32(areas)       \n",
    "    # Define criteria = ( type, max_iter = 10 , epsilon = 1.0 )\n",
    "    criteria = (cv2.TERM_CRITERIA_EPS + cv2.TERM_CRITERIA_MAX_ITER, 5, 1.0)\n",
    "    # Set flags (Just to avoid line break in the code)\n",
    "    flags = cv2.KMEANS_RANDOM_CENTERS\n",
    "    # Apply KMeans to clutser areas into 2 clutsers one for rows ,another for oultiers\n",
    "    compactness,labels,centers = cv2.kmeans(areas,2,None,criteria,10,flags)       \n",
    "    A = areas[labels.ravel()==0]\n",
    "    B = areas[labels.ravel()==1]\n",
    "    \n",
    "    for i in range (0 ,len(circles)):\n",
    "        if len(A)> len(B):\n",
    "            if labels[i]==0:\n",
    "                questionCnts.append(circles[i])\n",
    "        else:\n",
    "            if labels[i]==1:\n",
    "                questionCnts.append(circles[i])\n",
    "    print(len(questionCnts))           \n",
    "     #some of contours may be repeated so just take it onece\n",
    "     #this funnction needs to improve   \n",
    "    reminder.append(questionCnts[0])\n",
    "    for c in   questionCnts: \n",
    "        (x,y),radius = cv2.minEnclosingCircle(c)\n",
    "        center = (int(x),int(y))\n",
    "        if ( abs(x- xmin))>20 :\n",
    "                reminder.append(c)\n",
    "                xmin =x\n",
    "#             else:\n",
    "#                 ymin =y\n",
    "\n",
    "\n",
    "    print(len(reminder))\n",
    "    for c in reminder:\n",
    "            x,y,w,h = cv2.boundingRect(c)\n",
    "            cv2.drawContours(test_image, [c], -1, (0, 255, 0), 2)\n",
    "            mask[y:y+h, x:x+w] = BinaryImage[y:y+h, x:x+w]            \n",
    "\n",
    "    print(len(questionCnts)) \n",
    "    show_images([mask , test_image],[\"Image\" ,\"Test Image\"])   \n",
    "    return mask,reminder"
   ]
  },
  {
   "cell_type": "code",
   "execution_count": 12,
   "id": "7a8998de",
   "metadata": {},
   "outputs": [],
   "source": [
    "def rows(maskimage,img,cluster=False):\n",
    "    kernel = np.ones((1, 3), np.uint8)\n",
    "    #apply high dilation on rows\n",
    "    newmask2=cv2.dilate(maskimage, kernel, iterations=15) \n",
    "    show_images([newmask2],[\"Image\"])\n",
    "    # get conotours of this high dilated image\n",
    "    cnts ,hierarchy  = cv2.findContours(newmask2.copy(), cv2.RETR_EXTERNAL, cv2.CHAIN_APPROX_SIMPLE)\n",
    "    if not cluster:\n",
    "        return len(cnts)\n",
    "    else:\n",
    "        areas= []\n",
    "        for c in cnts:\n",
    "            x,y,w,h = cv2.boundingRect(c)\n",
    "            #store area of all contours\n",
    "            areas.append(w*h)\n",
    "        areas = np.float32(areas)       \n",
    "        # Define criteria = ( type, max_iter = 10 , epsilon = 1.0 )\n",
    "        criteria = (cv2.TERM_CRITERIA_EPS + cv2.TERM_CRITERIA_MAX_ITER, 5, 1.0)\n",
    "        # Set flags (Just to avoid line break in the code)\n",
    "        flags = cv2.KMEANS_RANDOM_CENTERS\n",
    "        # Apply KMeans to clutser areas into 2 clutsers one for rows ,another for oultiers\n",
    "        compactness,labels,centers = cv2.kmeans(areas,2,None,criteria,10,flags)       \n",
    "        A = areas[labels.ravel()==0]\n",
    "        B = areas[labels.ravel()==1]\n",
    "    \n",
    "        if len(A)> len(B):\n",
    "            return len(A)\n",
    "        return len(B)\n",
    "        \n",
    "    #ROWS ARE DONE"
   ]
  },
  {
   "cell_type": "code",
   "execution_count": 13,
   "id": "e6422c80",
   "metadata": {},
   "outputs": [],
   "source": [
    "def columns(maskimage,img,cluster=False):\n",
    "    newkernel = np.ones((3, 1), np.uint8)\n",
    "    #apply high dilation on image\n",
    "    newmask3=cv2.dilate(maskimage, newkernel, iterations=15) \n",
    "    # get contours of image\n",
    "    cnts ,hierarchy  = cv2.findContours(newmask3.copy(), cv2.RETR_EXTERNAL, cv2.CHAIN_APPROX_SIMPLE)\n",
    "    show_images([newmask3],[\"Image\"])\n",
    "    if not cluster:\n",
    "        return len(cnts)\n",
    "    else:\n",
    "        areas= []\n",
    "        for c in cnts:\n",
    "            x,y,w,h = cv2.boundingRect(c)\n",
    "            #store area of all contours\n",
    "            areas.append(w*h)\n",
    "        areas = np.float32(areas)       \n",
    "        # Define criteria = ( type, max_iter = 10 , epsilon = 1.0 )\n",
    "        criteria = (cv2.TERM_CRITERIA_EPS + cv2.TERM_CRITERIA_MAX_ITER, 5, 1.0)\n",
    "        # Set flags (Just to avoid line break in the code)\n",
    "        flags = cv2.KMEANS_RANDOM_CENTERS\n",
    "        # Apply KMeans to clutser areas into 2 clutsers one for rows ,another for oultiers\n",
    "        compactness,labels,centers = cv2.kmeans(areas,2,None,criteria,10,flags)       \n",
    "        A = areas[labels.ravel()==0]\n",
    "        B = areas[labels.ravel()==1]\n",
    "    \n",
    "        if len(A)> len(B):\n",
    "            return len(A)\n",
    "        return len(B)"
   ]
  },
  {
   "cell_type": "code",
   "execution_count": 14,
   "id": "f2431f0d",
   "metadata": {},
   "outputs": [],
   "source": [
    "def rows_sections(maskimage,img,cluster=False):\n",
    "    kernel = np.ones((1, 3), np.uint8)\n",
    "    #apply high dilation on rows\n",
    "    newmask2=cv2.dilate(maskimage, kernel, iterations=60) \n",
    "    show_images([newmask2],[\"Image\"])\n",
    "    # get conotours of this high dilated image\n",
    "    cnts ,hierarchy  = cv2.findContours(newmask2.copy(), cv2.RETR_EXTERNAL, cv2.CHAIN_APPROX_SIMPLE)\n",
    "    if not cluster:\n",
    "        return len(cnts)\n",
    "    else:\n",
    "        areas= []\n",
    "        for c in cnts:\n",
    "            x,y,w,h = cv2.boundingRect(c)\n",
    "            #store area of all contours\n",
    "            areas.append(w*h)\n",
    "        areas = np.float32(areas)       \n",
    "        # Define criteria = ( type, max_iter = 10 , epsilon = 1.0 )\n",
    "        criteria = (cv2.TERM_CRITERIA_EPS + cv2.TERM_CRITERIA_MAX_ITER, 5, 1.0)\n",
    "        # Set flags (Just to avoid line break in the code)\n",
    "        flags = cv2.KMEANS_RANDOM_CENTERS\n",
    "        # Apply KMeans to clutser areas into 2 clutsers one for rows ,another for oultiers\n",
    "        compactness,labels,centers = cv2.kmeans(areas,2,None,criteria,10,flags)       \n",
    "        A = areas[labels.ravel()==0]\n",
    "        B = areas[labels.ravel()==1]\n",
    "    \n",
    "        if len(A)> len(B):\n",
    "            return len(A)\n",
    "        return len(B)\n"
   ]
  },
  {
   "cell_type": "code",
   "execution_count": 15,
   "id": "be3b4eff",
   "metadata": {},
   "outputs": [],
   "source": [
    "def columns_sections(maskimage,img,cluster=False):\n",
    "    kernel = np.ones((4, 1), np.uint8)\n",
    "    #apply high dilation on rows\n",
    "    newmask2=cv2.dilate(maskimage, kernel, iterations=20) \n",
    "    show_images([newmask2],[\"Image\"])\n",
    "    # get conotours of this high dilated image\n",
    "    cnts ,hierarchy  = cv2.findContours(newmask2.copy(), cv2.RETR_EXTERNAL, cv2.CHAIN_APPROX_SIMPLE)\n",
    "    if not cluster:\n",
    "        return len(cnts)\n",
    "    else:\n",
    "        areas= []\n",
    "        for c in cnts:\n",
    "            x,y,w,h = cv2.boundingRect(c)\n",
    "            #store area of all contours\n",
    "            areas.append(w*h)\n",
    "        areas = np.float32(areas)       \n",
    "        # Define criteria = ( type, max_iter = 10 , epsilon = 1.0 )\n",
    "        criteria = (cv2.TERM_CRITERIA_EPS + cv2.TERM_CRITERIA_MAX_ITER, 5, 1.0)\n",
    "        # Set flags (Just to avoid line break in the code)\n",
    "        flags = cv2.KMEANS_RANDOM_CENTERS\n",
    "        # Apply KMeans to clutser areas into 2 clutsers one for rows ,another for oultiers\n",
    "        compactness,labels,centers = cv2.kmeans(areas,2,None,criteria,10,flags)       \n",
    "        A = areas[labels.ravel()==0]\n",
    "        B = areas[labels.ravel()==1]\n",
    "    \n",
    "        if len(A)> len(B):\n",
    "            return len(A)\n",
    "        return len(B)\n"
   ]
  },
  {
   "cell_type": "code",
   "execution_count": 16,
   "id": "5256d103",
   "metadata": {},
   "outputs": [],
   "source": [
    "def sort_contours(circles,reminder):\n",
    "    questions =[]\n",
    "    for c in circles:\n",
    "        for r in reminder:\n",
    "            (x, y, w, h) = cv2.boundingRect(c)\n",
    "            (x1, y1, w1, h1) = cv2.boundingRect(r)\n",
    "            if x==x1 and y==y1 and h==h1 and w==w1:\n",
    "                questions.append(c)\n",
    "                break\n",
    "    return questions           "
   ]
  },
  {
   "cell_type": "code",
   "execution_count": 17,
   "id": "c9ea0092",
   "metadata": {},
   "outputs": [],
   "source": [
    "# imgGray = GrayScaleImage(img)"
   ]
  },
  {
   "cell_type": "code",
   "execution_count": 18,
   "id": "91da9a1b",
   "metadata": {},
   "outputs": [],
   "source": [
    "# imgBlur = BluringImage(imgGray)"
   ]
  },
  {
   "cell_type": "code",
   "execution_count": 19,
   "id": "9601b46c",
   "metadata": {},
   "outputs": [],
   "source": [
    "# BinaryImage=GraytoBinary(imgBlur)"
   ]
  },
  {
   "cell_type": "code",
   "execution_count": 20,
   "id": "f1e0c5e8",
   "metadata": {},
   "outputs": [],
   "source": [
    "# charsAndShapes=allContours(img,BinaryImage)"
   ]
  },
  {
   "cell_type": "code",
   "execution_count": 21,
   "id": "40ce44c0",
   "metadata": {},
   "outputs": [],
   "source": [
    "# circles,maskimage=charandCircles(img,BinaryImage,charsAndShapes)"
   ]
  },
  {
   "cell_type": "code",
   "execution_count": 22,
   "id": "fbdd2eb6",
   "metadata": {},
   "outputs": [],
   "source": [
    "# mask,reminder=Circle(img,maskimage,circles)"
   ]
  },
  {
   "cell_type": "code",
   "execution_count": 23,
   "id": "9e988b8c",
   "metadata": {},
   "outputs": [],
   "source": [
    "# reminder=sort_contours(circles,reminder)"
   ]
  },
  {
   "cell_type": "code",
   "execution_count": 24,
   "id": "8b567f7d",
   "metadata": {},
   "outputs": [],
   "source": [
    "# print(len(reminder))"
   ]
  },
  {
   "cell_type": "code",
   "execution_count": 25,
   "id": "0830f2eb",
   "metadata": {},
   "outputs": [],
   "source": [
    "# rows_number = rows(mask,img)\n",
    "# print(rows_number)"
   ]
  },
  {
   "cell_type": "code",
   "execution_count": 26,
   "id": "5cc936a9",
   "metadata": {},
   "outputs": [],
   "source": [
    "# columns_number =columns(mask,img)\n",
    "# print(columns_number)"
   ]
  },
  {
   "cell_type": "code",
   "execution_count": 27,
   "id": "0cd274ae",
   "metadata": {},
   "outputs": [],
   "source": [
    "# row_per_section =rows_sections(mask,img)\n",
    "# print(row_per_section)"
   ]
  },
  {
   "cell_type": "code",
   "execution_count": 28,
   "id": "1e5c516c",
   "metadata": {},
   "outputs": [],
   "source": [
    "# column_per_section= columns_sections(mask,img)\n",
    "# print(column_per_section)"
   ]
  },
  {
   "cell_type": "code",
   "execution_count": 29,
   "id": "3f8aa808",
   "metadata": {},
   "outputs": [],
   "source": [
    "def sort_columns(reminder,column_per_section):\n",
    "    contours = []\n",
    "    for i in range(0,len(reminder),column_per_section):\n",
    "         cnts = reminder [i:i+column_per_section]\n",
    "         arr =[]\n",
    "         for c in cnts :\n",
    "            (x, y, w, h) = cv2.boundingRect(c)\n",
    "            arr.append(x)\n",
    "         arr=np.sort(arr)\n",
    "         print(arr)\n",
    "         for e in arr:\n",
    "                for cnt in cnts:\n",
    "                     (x, y, w, h) = cv2.boundingRect(cnt)\n",
    "                     if(x==e):\n",
    "                        contours.append(cnt)\n",
    "                        break\n",
    "                \n",
    "    return contours              \n",
    "                "
   ]
  },
  {
   "cell_type": "code",
   "execution_count": 30,
   "id": "75001c9c",
   "metadata": {},
   "outputs": [],
   "source": [
    "# n_rows = rows_number/row_per_section\n",
    "# endpoint = rows_number/row_per_section\n",
    "# n_rows =column_per_section/n_rows"
   ]
  },
  {
   "cell_type": "code",
   "execution_count": 31,
   "id": "a58e092f",
   "metadata": {},
   "outputs": [],
   "source": [
    "# n_columns = columns_number/column_per_section\n",
    "# n_columns = row_per_section/n_columns"
   ]
  },
  {
   "cell_type": "code",
   "execution_count": 32,
   "id": "76d7551a",
   "metadata": {},
   "outputs": [],
   "source": [
    "# print(n_rows)\n",
    "# print(n_columns)"
   ]
  },
  {
   "cell_type": "code",
   "execution_count": 33,
   "id": "55fa5284",
   "metadata": {},
   "outputs": [],
   "source": [
    "# reminder=sort_columns(reminder,column_per_section)"
   ]
  },
  {
   "cell_type": "code",
   "execution_count": 34,
   "id": "be8ca882",
   "metadata": {},
   "outputs": [],
   "source": [
    "def  get_answers(n_rows, n_columns,reminder,BinaryImage,row_per_section,endpoint,rows_number,imgGray):\n",
    "    marked = np.zeros(BinaryImage.shape, dtype='uint8')\n",
    "    notmarked = np.zeros(BinaryImage.shape, dtype='uint8')\n",
    "    n_rows =int(n_rows)\n",
    "    count=0\n",
    "    total = int(n_rows*n_columns)\n",
    "    intial = int(row_per_section)\n",
    "    savepoint =endpoint\n",
    "#     sortedCnts,boundingBoxes =sort_contours(reminder)\n",
    "    sortedCnts = reminder\n",
    "    arr =np.zeros(shape=(rows_number, n_rows))\n",
    " \n",
    "    for i in range(0,len(sortedCnts),n_rows):\n",
    "        cnts = sortedCnts [i:i+n_rows]\n",
    "        j = 0\n",
    "        for c in cnts:\n",
    "            \n",
    "            (x, y, w, h) = cv2.boundingRect(c)\n",
    "            mask = np.zeros([h, w], dtype='uint8')\n",
    "            mask[0:h, 0:w] = BinaryImage[y:y+h, x:x+w] \n",
    "            bubble= imgGray[y:y+h, x:x+w] \n",
    "            ret,threshold= cv2.threshold(bubble, 0, 255, cv2.THRESH_BINARY + cv2.THRESH_OTSU)\n",
    "            imgHist = exposure.histogram(threshold, nbins=256)\n",
    "#             show_images([threshold],[\"threshold\"])\n",
    "#             print(str(imgHist[0][0])+\"<\" + str(imgHist[0][255]))\n",
    "            if(imgHist[0][0]>0.7*imgHist[0][255]):\n",
    "                count+=1\n",
    "                arr[int(intial)-1][j]=1\n",
    "                marked [y:y+h, x:x+w]=BinaryImage[y:y+h, x:x+w]\n",
    "            else :\n",
    "               \n",
    "                notmarked[y:y+h, x:x+w]=BinaryImage[y:y+h, x:x+w]\n",
    "            j =j +1        \n",
    "#        print(count)     \n",
    "#         show_images([marked,notmarked],[\"Marked\",\"not marked\"])\n",
    "        intial+= row_per_section\n",
    "#         print(intial)\n",
    "                    \n",
    "        endpoint -=1\n",
    "        if endpoint ==0:\n",
    "            endpoint=savepoint\n",
    "            intial=intial-(endpoint) *row_per_section-1\n",
    "        if(intial-1)>=rows_number:\n",
    "                endpoint=savepoint\n",
    "                intial=intial-(endpoint) *row_per_section-1    \n",
    "   \n",
    "    show_images([marked,notmarked],[\"Marked\",\"not marked\"]) \n",
    "    print(count)\n",
    "    return arr\n",
    "            "
   ]
  },
  {
   "cell_type": "code",
   "execution_count": 35,
   "id": "dedeb992",
   "metadata": {},
   "outputs": [],
   "source": [
    "def generate_asnwsers(nquestions,nchoices):\n",
    "    f = open(\"BubbleSheetTests/answers.txt\",\"a\")\n",
    "    f.truncate(0)\n",
    "    answers =[]\n",
    "    for i in range(0,nquestions):\n",
    "#         choice =random.randint(1,nchoices) \n",
    "        answers.append(1)\n",
    "        f.write(str(1))\n",
    "        f.write('\\n')\n",
    "    f.close()\n",
    "    return answers"
   ]
  },
  {
   "cell_type": "code",
   "execution_count": 36,
   "id": "41585a42",
   "metadata": {},
   "outputs": [],
   "source": [
    "def readanswers():\n",
    "    f = open(\"BubbleSheetTests/answers.txt\",\"r\")\n",
    "    answers =[]\n",
    "    x= f.readlines()\n",
    "    for i in range(0,len(x)):\n",
    "        answers.append(int(x[i]))\n",
    "    f.close()\n",
    "    return answers"
   ]
  },
  {
   "cell_type": "code",
   "execution_count": 37,
   "id": "5c0211c6",
   "metadata": {},
   "outputs": [],
   "source": [
    "def createspreadsheet():\n",
    "    # Workbook is created\n",
    "    wb = Workbook()\n",
    "    sheet1 = wb.add_sheet('Grades')\n",
    "    return sheet1,wb"
   ]
  },
  {
   "cell_type": "code",
   "execution_count": 38,
   "id": "8389052b",
   "metadata": {},
   "outputs": [],
   "source": [
    "def wirtexcelsheet(questions,answers,nimage,sheet1,codes):\n",
    "    minlength= min(len(questions), len(answers))\n",
    "#     print(minlength)\n",
    "    for i in range(0,minlength):\n",
    "        arr=questions[i]\n",
    "        index=np.where(arr == 1)\n",
    "        if len(index[0])==1:\n",
    "            if index[0][0]+1==answers[i]:\n",
    "                sheet1.write(nimage,i+1,1)\n",
    "            else:\n",
    "                 sheet1.write(nimage,i+1,0)\n",
    "        else :\n",
    "            sheet1.write(nimage,i+1,0)\n",
    "            \n",
    "    minlength = min(10,len(codes[0])) \n",
    "    matrix =np.asarray(codes)\n",
    "    t_matrix = matrix.transpose()\n",
    "    code =\"\"\n",
    "    for i in range(0,minlength):\n",
    "        arr=np.asarray(t_matrix[i])\n",
    "        index=np.where(arr == 1)\n",
    "        if len(index[0])>=1:\n",
    "            number =index[0][0]+1\n",
    "            if number ==10:\n",
    "                code +='0'\n",
    "            else:\n",
    "                code += str(number)\n",
    "        else:\n",
    "            code+=str('U')\n",
    "            \n",
    "    sheet1.write(nimage,0,code)   \n",
    "            \n",
    "    \n",
    "    \n",
    "    "
   ]
  },
  {
   "cell_type": "code",
   "execution_count": 39,
   "id": "0b5f46ca",
   "metadata": {
    "scrolled": false
   },
   "outputs": [],
   "source": [
    "# arr=get_answers(n_rows,n_columns,reminder,BinaryImage,row_per_section,endpoint,rows_number,imgGray)"
   ]
  },
  {
   "cell_type": "code",
   "execution_count": 40,
   "id": "76feaf38",
   "metadata": {},
   "outputs": [],
   "source": [
    "# print(arr)"
   ]
  },
  {
   "cell_type": "code",
   "execution_count": 41,
   "id": "5208c91b",
   "metadata": {},
   "outputs": [],
   "source": [
    "def speratequestions(arr,n_columns):\n",
    "    codes =[]\n",
    "    n_columns =int(n_columns)\n",
    "    questions =[]\n",
    "    for i in range(0,n_columns):\n",
    "        codes.append(arr[i])\n",
    "    for i in range(n_columns,len(arr)):\n",
    "        questions.append(arr[i])\n",
    "    return codes,questions    "
   ]
  },
  {
   "cell_type": "code",
   "execution_count": 42,
   "id": "f4491028",
   "metadata": {},
   "outputs": [],
   "source": [
    "# codes,questions=speratequestions(arr,n_columns)"
   ]
  },
  {
   "cell_type": "code",
   "execution_count": 43,
   "id": "122aa40e",
   "metadata": {},
   "outputs": [],
   "source": [
    "# print(codes)"
   ]
  },
  {
   "cell_type": "code",
   "execution_count": 44,
   "id": "e21b5f9a",
   "metadata": {},
   "outputs": [],
   "source": [
    "# print(questions)"
   ]
  },
  {
   "cell_type": "code",
   "execution_count": 45,
   "id": "f8ae9f90",
   "metadata": {},
   "outputs": [],
   "source": [
    "def BubbleSheet(img,cluster,sheet1,nimage):\n",
    "    imgGray = GrayScaleImage(img)\n",
    "    imgBlur = BluringImage(imgGray)\n",
    "    BinaryImage=GraytoBinary(imgBlur)\n",
    "    charsAndShapes=allContours(img,BinaryImage)\n",
    "    circles,maskimage=charandCircles(img,BinaryImage,charsAndShapes)\n",
    "    mask,reminder=Circle(img,maskimage,circles)\n",
    "    reminder=sort_contours(circles,reminder)\n",
    "    print(len(reminder))\n",
    "    rows_number = rows(mask,img,cluster)\n",
    "    print(rows_number)\n",
    "    columns_number =columns(mask,img,cluster)\n",
    "    print(columns_number)\n",
    "    row_per_section =rows_sections(mask,img,cluster)\n",
    "    print(row_per_section)\n",
    "    column_per_section= columns_sections(mask,img,cluster)\n",
    "    print(column_per_section)\n",
    "    n_rows = rows_number/row_per_section\n",
    "    endpoint = rows_number/row_per_section\n",
    "    n_rows =column_per_section/n_rows\n",
    "    n_columns = columns_number/column_per_section\n",
    "    n_columns = row_per_section/n_columns\n",
    "    print(n_rows)\n",
    "    print(n_columns)\n",
    "    reminder=sort_columns(reminder,column_per_section)\n",
    "    answers=generate_asnwsers(int(n_rows*n_columns),int(n_rows))\n",
    "    arr=get_answers(n_rows,n_columns,reminder,BinaryImage,row_per_section,endpoint,rows_number,imgGray)\n",
    "    codes,questions=speratequestions(arr,n_columns)\n",
    "    wirtexcelsheet(questions,answers,nimage,sheet1,codes)\n",
    "    print(codes)\n",
    "    print(questions)\n",
    "   \n",
    "    \n",
    "    \n",
    "    \n",
    "    \n",
    "    \n",
    "    "
   ]
  },
  {
   "cell_type": "code",
   "execution_count": 46,
   "id": "7ccd873c",
   "metadata": {},
   "outputs": [],
   "source": [
    "# send from previous layer\n",
    "# nimage=1\n",
    "# cluster= False"
   ]
  },
  {
   "cell_type": "code",
   "execution_count": 47,
   "id": "ce5a7ee6",
   "metadata": {},
   "outputs": [],
   "source": [
    "# #run for one time\n",
    "# #have 2 choices , generate random answers or write it with your self and read them\n",
    "# # frist option :# n questions , n choices\n",
    "# #generate random answers for questions\n",
    "# answers=generate_asnwsers(int(n_rows*n_columns),int(n_rows))\n",
    "# #second option\n",
    "# answers=readanswers()\n",
    "# sheet1,wb=createspreadsheet()"
   ]
  },
  {
   "cell_type": "code",
   "execution_count": 48,
   "id": "fbadec56",
   "metadata": {},
   "outputs": [],
   "source": [
    "# print(answers)"
   ]
  },
  {
   "cell_type": "code",
   "execution_count": 49,
   "id": "2d134a87",
   "metadata": {},
   "outputs": [],
   "source": [
    "# wirtexcelsheet(questions,answers,nimage,sheet1,codes)\n",
    "# wb.save('BubbleSheetTests/Grades.xls')"
   ]
  },
  {
   "cell_type": "code",
   "execution_count": 50,
   "id": "7d9eebc7",
   "metadata": {},
   "outputs": [],
   "source": [
    "# BubbleSheet(img,cluster,sheet1,nimage)\n",
    "# wb.save('BubbleSheetTests/Grades.xls')"
   ]
  }
 ],
 "metadata": {
  "kernelspec": {
   "display_name": "Python 3",
   "language": "python",
   "name": "python3"
  },
  "language_info": {
   "codemirror_mode": {
    "name": "ipython",
    "version": 3
   },
   "file_extension": ".py",
   "mimetype": "text/x-python",
   "name": "python",
   "nbconvert_exporter": "python",
   "pygments_lexer": "ipython3",
   "version": "3.8.8"
  }
 },
 "nbformat": 4,
 "nbformat_minor": 5
}
